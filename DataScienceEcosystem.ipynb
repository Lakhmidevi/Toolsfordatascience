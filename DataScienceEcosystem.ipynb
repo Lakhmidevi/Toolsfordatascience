{
 "cells": [
  {
   "cell_type": "markdown",
   "id": "899ac8a9-a2c2-49d4-ad15-ce9436993ee6",
   "metadata": {},
   "source": [
    "# Data Science Tools and Ecosystem"
   ]
  },
  {
   "cell_type": "markdown",
   "id": "bf4f3680-2831-4ee3-81d2-61457e9db941",
   "metadata": {},
   "source": [
    "## In this notebook, Data Science Tools and Ecosystem are summarized.\n"
   ]
  },
  {
   "cell_type": "markdown",
   "id": "fe6a4b20-4ee6-4a53-a0b9-8071c0ddc31c",
   "metadata": {},
   "source": [
    "**Objectives:**\n",
    "- List popular languages for Data Science\n",
    "- Identify common libraries used in Data Science\n",
    "- Understand basic data manipulation techniques\n",
    "- Visualize data using common plotting libraries\n",
    "- Learn the fundamentals of machine learning models"
   ]
  },
  {
   "cell_type": "markdown",
   "id": "9d660715-6f8d-41df-85ab-f8fc5b1c8d04",
   "metadata": {},
   "source": [
    "#Some of the popular languages that Data Scientists use are:\n",
    "\n",
    "1. Python\n",
    "2. R\n",
    "3. SQL"
   ]
  },
  {
   "cell_type": "markdown",
   "id": "ae027065-4211-47ad-8f31-b67eecd27dfd",
   "metadata": {},
   "source": [
    "Some of the commonly used libraries used by Data Scientists include:\n",
    "\n",
    "1. **NumPy** – For numerical computations and handling large multi-dimensional arrays.\n",
    "2. **Pandas** – For data manipulation and analysis, including data frames.\n",
    "3. **Matplotlib** – For data visualization through 2D plotting.\n",
    "4. **Scikit-Learn** – For machine learning algorithms and models.\n",
    "5. **TensorFlow** – For deep learning and neural networks.\n",
    "6. **Seaborn** – For statistical data visualization."
   ]
  },
  {
   "cell_type": "markdown",
   "id": "70a1beb7-1f92-4ba9-8f4c-8e31ccee325e",
   "metadata": {},
   "source": [
    "| Data Science Tools         |\n",
    "|----------------------------|\n",
    "| Jupyter Notebook           |\n",
    "| RStudio                    |\n",
    "| Apache Zeppelin            |"
   ]
  },
  {
   "cell_type": "markdown",
   "id": "e9348b59-2fca-4983-8792-3cbcac6214a3",
   "metadata": {},
   "source": [
    "### Below are a few examples of evaluating arithmetic expressions in Python\n",
    "\n",
    "- **Addition:** `5 + 3` → `8`\n",
    "- **Subtraction:** `10 - 4` → `6`\n",
    "- **Multiplication:** `7 * 2` → `14`\n",
    "- **Division:** `15 / 3` → `5.0`\n",
    "- **Exponentiation:** `2 ** 3` → `8`\n",
    "- **Modulo:** `10 % 3` → `1`"
   ]
  },
  {
   "cell_type": "code",
   "execution_count": 14,
   "id": "d64c42e9-b5d6-4e1c-b454-58bb80912f5c",
   "metadata": {},
   "outputs": [
    {
     "name": "stdout",
     "output_type": "stream",
     "text": [
      "17\n"
     ]
    }
   ],
   "source": [
    "# This is a simple arithmetic expression to multiply then add integers\n",
    "result = (3 * 4) + 5\n",
    "print(result)  "
   ]
  },
  {
   "cell_type": "code",
   "execution_count": 15,
   "id": "b9dbc1be-76fd-43c9-bff3-69a9c6747fee",
   "metadata": {},
   "outputs": [
    {
     "name": "stdout",
     "output_type": "stream",
     "text": [
      "3.3333333333333335\n"
     ]
    }
   ],
   "source": [
    "# This will convert 200 minutes to hours by dividing by 60\n",
    "minutes = 200\n",
    "hours = minutes / 60\n",
    "print(hours)"
   ]
  },
  {
   "cell_type": "markdown",
   "id": "4fe3bed1-b66b-4023-a3ce-8e8fc20dd971",
   "metadata": {},
   "source": [
    "## Author  \n",
    "Lakshmi Devi.R"
   ]
  },
  {
   "cell_type": "code",
   "execution_count": null,
   "id": "a45b01d5-2a09-44f2-b59b-3eece7fa7794",
   "metadata": {},
   "outputs": [],
   "source": []
  }
 ],
 "metadata": {
  "kernelspec": {
   "display_name": "Python 3 (ipykernel)",
   "language": "python",
   "name": "python3"
  },
  "language_info": {
   "codemirror_mode": {
    "name": "ipython",
    "version": 3
   },
   "file_extension": ".py",
   "mimetype": "text/x-python",
   "name": "python",
   "nbconvert_exporter": "python",
   "pygments_lexer": "ipython3",
   "version": "3.12.8"
  }
 },
 "nbformat": 4,
 "nbformat_minor": 5
}
